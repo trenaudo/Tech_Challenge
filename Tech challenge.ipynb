{
 "cells": [
  {
   "cell_type": "code",
   "execution_count": null,
   "id": "ec2f914d",
   "metadata": {},
   "outputs": [],
   "source": [
    "import matplotlib.pyplot as plt\n",
    "import pandas as pd\n",
    "import numpy as np\n",
    "import seaborn as sns\n",
    "import sklearn.metrics as metrics\n",
    "\n",
    "from sklearn import datasets\n",
    "from sklearn.preprocessing import StandardScaler\n",
    "from sklearn.cluster import KMeans\n",
    "from matplotlib import pyplot\n",
    "from sklearn.metrics import silhouette_score\n",
    "from PIL import Image\n",
    "from IPython.display import display\n",
    "from sklearn.model_selection import train_test_split\n",
    "from sklearn.metrics import classification_report, confusion_matrix, ConfusionMatrixDisplay\n",
    "from sklearn.metrics import accuracy_score\n",
    "from sklearn.metrics import roc_curve, roc_auc_score\n",
    "from sklearn.linear_model import LinearRegression\n",
    "from sklearn.metrics import mean_squared_error, r2_score\n",
    "from sklearn.linear_model import LogisticRegression\n",
    "\n",
    "get_ipython().run_line_magic('matplotlib', 'inline')\n"
   ]
  },
  {
   "cell_type": "code",
   "execution_count": null,
   "id": "5ef1250b",
   "metadata": {},
   "outputs": [],
   "source": [
    "# Load data\n",
    "df = pd.read_csv(\"measurements.csv\")\n",
    "df01 = pd.read_excel(\"measurements2.xlsx\")"
   ]
  },
  {
   "cell_type": "code",
   "execution_count": null,
   "id": "d0f2ce82",
   "metadata": {},
   "outputs": [],
   "source": [
    "# Exploratory data analysis / Cleaning data\n",
    "df.info()\n",
    "column_value_counts = df.count()"
   ]
  },
  {
   "cell_type": "code",
   "execution_count": null,
   "id": "594087f6",
   "metadata": {},
   "outputs": [],
   "source": [
    "columns_to_convert = [\"distance\", \"consume\", \"temp_inside\"]\n",
    "for column in columns_to_convert:\n",
    "    df[column] = pd.to_numeric(df[column], errors='coerce', downcast='integer')\n",
    "\n"
   ]
  },
  {
   "cell_type": "code",
   "execution_count": null,
   "id": "bc395780",
   "metadata": {},
   "outputs": [],
   "source": [
    "columns_to_delete = [\"specials\", \"refill liters\", \"refill gas\"]\n",
    "df = df.drop(columns=columns_to_delete)\n",
    "\n",
    "column_means = df.mean()\n",
    "df.fillna(column_means, inplace=True)\n",
    "\n"
   ]
  },
  {
   "cell_type": "code",
   "execution_count": null,
   "id": "a443ed11",
   "metadata": {},
   "outputs": [],
   "source": [
    "# Data analysis and modeling preparation\n",
    "numerical_df = df.select_dtypes(include=[np.number])\n",
    "categorical_df = df.select_dtypes(include=['object'])\n",
    "\n"
   ]
  },
  {
   "cell_type": "code",
   "execution_count": null,
   "id": "60945e3b",
   "metadata": {},
   "outputs": [],
   "source": [
    "dummy_nominals = [\"gas_type\"]\n",
    "categorical_df = pd.get_dummies(categorical_df, columns=dummy_nominals)\n",
    "\n"
   ]
  },
  {
   "cell_type": "code",
   "execution_count": null,
   "id": "712bb083",
   "metadata": {},
   "outputs": [],
   "source": [
    "df_model = pd.concat([numerical_df, categorical_df], axis=1)\n",
    "\n",
    "X = df_model[['distance', 'speed', 'temp_inside', 'temp_outside', 'AC',\n",
    "              'rain', 'sun', 'gas_type_E10', 'gas_type_SP98']]\n",
    "y = df_model['consume']\n",
    "\n",
    "X_train, X_test, y_train, y_test = train_test_split(X, y, test_size=0.3, random_state=42)\n"
   ]
  },
  {
   "cell_type": "code",
   "execution_count": null,
   "id": "d9dff003",
   "metadata": {},
   "outputs": [],
   "source": [
    "# Linear Regression Model\n",
    "scaler = StandardScaler()\n",
    "X_scaler_train = scaler.fit_transform(X_train)\n",
    "X_scaler_test = scaler.transform(X_test)\n",
    "\n",
    "model_lr = LinearRegression()\n",
    "model_lr.fit(X_scaler_train, y_train)\n",
    "\n",
    "y_predictive = model_lr.predict(X_scaler_test)\n",
    "\n",
    "mse = mean_squared_error(y_test, y_predictive)\n",
    "r2 = r2_score(y_test, y_predictive)\n",
    "\n"
   ]
  },
  {
   "cell_type": "code",
   "execution_count": null,
   "id": "bcacdb8e",
   "metadata": {},
   "outputs": [],
   "source": [
    "# Coefficients Analysis\n",
    "coefficients = model_lr.coef_\n",
    "coefficients_analysis = pd.DataFrame({\n",
    "    \"independent variables\": ['distance', 'speed', 'temp_inside', 'temp_outside', 'AC',\n",
    "                              'rain', 'sun', 'gas_type_E10', 'gas_type_SP98'],\n",
    "    'coefficients': coefficients\n",
    "})\n",
    "\n",
    "df_orden_importances = coefficients_analysis.sort_values(by='coefficients', ascending=False)\n",
    "\n",
    "plt.figure(figsize=(10, 8))\n",
    "sns.barplot(x='coefficients', y='independent variables', data=df_orden_importances)\n",
    "plt.xlabel('coefficients')\n",
    "plt.ylabel('Independent Variables')\n",
    "plt.title('Importance of variables in the model')\n",
    "plt.show()\n"
   ]
  },
  {
   "cell_type": "code",
   "execution_count": null,
   "id": "b55c711c",
   "metadata": {},
   "outputs": [],
   "source": [
    "# Logistic Regression Model\n",
    "categorical_df_lr = df.select_dtypes(include=['object'])\n",
    "df_model_lr = pd.concat([numerical_df, categorical_df_lr], axis=1)\n",
    "\n",
    "X_lr = df_model_lr[['distance', 'speed', 'temp_inside', 'temp_outside', 'AC', 'rain', 'sun', 'consume']]\n",
    "y_lr = df_model_lr['gas_type']\n",
    "\n",
    "X_train_lr, X_test_lr, y_train_lr, y_test_lr = train_test_split(X_lr, y_lr, test_size=0.3, random_state=42)\n",
    "\n",
    "scaler = StandardScaler()\n",
    "X_scaler_train_lr = scaler.fit_transform(X_train_lr)\n",
    "X_scaler_test_lr = scaler.transform(X_test_lr)\n",
    "\n"
   ]
  },
  {
   "cell_type": "code",
   "execution_count": null,
   "id": "3e252692",
   "metadata": {},
   "outputs": [],
   "source": [
    "# Unbalanced Logistic Regression Model\n",
    "model_unbalanced = LogisticRegression()\n",
    "model_unbalanced.fit(X_scaler_train_lr, y_train_lr)\n",
    "\n",
    "y_predictive_lr = model_unbalanced.predict(X_scaler_test_lr)\n",
    "\n",
    "accuracy = accuracy_score(y_test_lr, y_predictive_lr)\n",
    "print(\"Model Accuracy (Unbalanced): {:.2f}%\".format(accuracy * 100))\n"
   ]
  },
  {
   "cell_type": "code",
   "execution_count": null,
   "id": "c5ac4de8",
   "metadata": {},
   "outputs": [],
   "source": [
    "# Balanced Logistic Regression Model using SMOTE\n",
    "from imblearn.over_sampling import SMOTE\n",
    "\n",
    "smote = SMOTE(random_state=42)\n",
    "X_smote_train, y_smote_train = smote.fit_resample(X_scaler_train_lr, y_train_lr)\n",
    "\n",
    "model_balanced = LogisticRegression()\n",
    "model_balanced.fit(X_smote_train, y_smote_train)\n",
    "\n",
    "y_predictive_using_smote = model_balanced.predict(X_scaler_test_lr)\n",
    "\n",
    "accuracy = accuracy_score(y_test_lr, y_predictive_using_smote)\n",
    "print(\"Model Accuracy (Balanced with SMOTE): {:.2f}%\".format(accuracy * 100))\n"
   ]
  },
  {
   "cell_type": "code",
   "execution_count": null,
   "id": "f53f1394",
   "metadata": {},
   "outputs": [],
   "source": [
    "# Classification Report\n",
    "report = classification_report(y_test_lr, y_predictive_using_smote)\n",
    "print(report)\n"
   ]
  },
  {
   "cell_type": "code",
   "execution_count": null,
   "id": "4dadcab1",
   "metadata": {},
   "outputs": [],
   "source": [
    "# Confusion Matrix\n",
    "cm = confusion_matrix(y_test_lr, y_predictive_using_smote, labels=model_balanced.classes_)\n",
    "disp = ConfusionMatrixDisplay(confusion_matrix=cm, display_labels=model_balanced.classes_)\n",
    "disp.plot()\n",
    "plt.show()\n"
   ]
  }
 ],
 "metadata": {
  "kernelspec": {
   "display_name": "Python 3 (ipykernel)",
   "language": "python",
   "name": "python3"
  },
  "language_info": {
   "codemirror_mode": {
    "name": "ipython",
    "version": 3
   },
   "file_extension": ".py",
   "mimetype": "text/x-python",
   "name": "python",
   "nbconvert_exporter": "python",
   "pygments_lexer": "ipython3",
   "version": "3.10.9"
  }
 },
 "nbformat": 4,
 "nbformat_minor": 5
}
